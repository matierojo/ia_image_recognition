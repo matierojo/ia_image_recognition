{
 "cells": [
  {
   "cell_type": "code",
   "execution_count": null,
   "metadata": {},
   "outputs": [],
   "source": [
    "import cv2"
   ]
  },
  {
   "cell_type": "code",
   "execution_count": null,
   "metadata": {},
   "outputs": [],
   "source": [
    "cap = cv2.VideoCapture(0)\n",
    "while True:\n",
    "    ret, frame = cap.read()\n",
    "\n",
    "    # ret = Mientras sea true es que esta pudiendo capturar. \n",
    "    # print(ret)\n",
    "    \n",
    "    # Mostramos los frames en tiempo real\n",
    "    cv2.imshow(\"VIDEO CAPTURA\", frame)\n",
    "\n",
    "    # Con esto tomamos lo que se pulse en el teclado\n",
    "    # segun acsii el 27 = ESC, es decis que si presionamos ESC se corta\n",
    "    t = cv2.waitKey(1)\n",
    "    print(t)\n",
    "    if t == 27:\n",
    "        break\n",
    "\n",
    "cap.close()\n",
    "\n",
    "cv2.destroyAllWindows()"
   ]
  }
 ],
 "metadata": {
  "kernelspec": {
   "display_name": "Python 3",
   "language": "python",
   "name": "python3"
  },
  "language_info": {
   "codemirror_mode": {
    "name": "ipython",
    "version": 3
   },
   "file_extension": ".py",
   "mimetype": "text/x-python",
   "name": "python",
   "nbconvert_exporter": "python",
   "pygments_lexer": "ipython3",
   "version": "3.9.6"
  }
 },
 "nbformat": 4,
 "nbformat_minor": 2
}

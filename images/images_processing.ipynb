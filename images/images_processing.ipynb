{
 "cells": [
  {
   "cell_type": "code",
   "execution_count": 2,
   "metadata": {},
   "outputs": [],
   "source": [
    "import cv2\n",
    "import numpy as np\n",
    "import matplotlib.pyplot as plt"
   ]
  },
  {
   "cell_type": "markdown",
   "metadata": {},
   "source": [
    "### ESCALA DE GRISES"
   ]
  },
  {
   "cell_type": "code",
   "execution_count": 3,
   "metadata": {},
   "outputs": [
    {
     "data": {
      "image/png": "[encoded data removed]",
      "text/plain": [
       "<Figure size 640x480 with 1 Axes>"
      ]
     },
     "metadata": {},
     "output_type": "display_data"
    }
   ],
   "source": [
    "# Imagen negra\n",
    "img = np.zeros((10,10,1), np.uint8)\n",
    "\n",
    "# Cambiamos algunos pixeles\n",
    "img[0,1] = 30 # fila 0 col 1\n",
    "img[2,3] = 50\n",
    "img[4,5] = 200\n",
    "img[6,7] = 140\n",
    "\n",
    "plt.imshow(img, cmap=\"gray\") # cmap = mapa de color de escala de grises\n",
    "plt.show()"
   ]
  },
  {
   "cell_type": "markdown",
   "metadata": {},
   "source": [
    "### RGB (COLORES)"
   ]
  },
  {
   "cell_type": "code",
   "execution_count": 5,
   "metadata": {},
   "outputs": [
    {
     "name": "stdout",
     "output_type": "stream",
     "text": [
      "[[[255 255   0]\n",
      "  [255 255   0]\n",
      "  [255 255   0]\n",
      "  [255 255   0]\n",
      "  [255 255   0]\n",
      "  [255 255   0]\n",
      "  [255 255   0]\n",
      "  [255 255   0]\n",
      "  [255 255   0]\n",
      "  [255 255   0]]\n",
      "\n",
      " [[255 255   0]\n",
      "  [255 255   0]\n",
      "  [255 255   0]\n",
      "  [255 255   0]\n",
      "  [255 255   0]\n",
      "  [255 255   0]\n",
      "  [255 255   0]\n",
      "  [255 255   0]\n",
      "  [255 255   0]\n",
      "  [255 255   0]]\n",
      "\n",
      " [[255 255   0]\n",
      "  [255 255   0]\n",
      "  [255 255   0]\n",
      "  [255 255   0]\n",
      "  [255 255   0]\n",
      "  [255 255   0]\n",
      "  [255 255   0]\n",
      "  [255 255   0]\n",
      "  [255 255   0]\n",
      "  [255 255   0]]\n",
      "\n",
      " [[255 255   0]\n",
      "  [255 255   0]\n",
      "  [255 255   0]\n",
      "  [255 255   0]\n",
      "  [255 255   0]\n",
      "  [255 255   0]\n",
      "  [255 255   0]\n",
      "  [255 255   0]\n",
      "  [255 255   0]\n",
      "  [255 255   0]]\n",
      "\n",
      " [[255 255   0]\n",
      "  [255 255   0]\n",
      "  [255 255   0]\n",
      "  [255 255   0]\n",
      "  [255 255   0]\n",
      "  [255 255   0]\n",
      "  [255 255   0]\n",
      "  [255 255   0]\n",
      "  [255 255   0]\n",
      "  [255 255   0]]\n",
      "\n",
      " [[255 255   0]\n",
      "  [255 255   0]\n",
      "  [255 255   0]\n",
      "  [255 255   0]\n",
      "  [255 255   0]\n",
      "  [255 255   0]\n",
      "  [255 255   0]\n",
      "  [255 255   0]\n",
      "  [255 255   0]\n",
      "  [255 255   0]]\n",
      "\n",
      " [[255 255   0]\n",
      "  [255 255   0]\n",
      "  [255 255   0]\n",
      "  [255 255   0]\n",
      "  [255 255   0]\n",
      "  [255 255   0]\n",
      "  [255 255   0]\n",
      "  [255 255   0]\n",
      "  [255 255   0]\n",
      "  [255 255   0]]\n",
      "\n",
      " [[255 255   0]\n",
      "  [255 255   0]\n",
      "  [255 255   0]\n",
      "  [255 255   0]\n",
      "  [255 255   0]\n",
      "  [255 255   0]\n",
      "  [255 255   0]\n",
      "  [255 255   0]\n",
      "  [255 255   0]\n",
      "  [255 255   0]]\n",
      "\n",
      " [[255 255   0]\n",
      "  [255 255   0]\n",
      "  [255 255   0]\n",
      "  [255 255   0]\n",
      "  [255 255   0]\n",
      "  [255 255   0]\n",
      "  [255 255   0]\n",
      "  [255 255   0]\n",
      "  [255 255   0]\n",
      "  [255 255   0]]\n",
      "\n",
      " [[255 255   0]\n",
      "  [255 255   0]\n",
      "  [255 255   0]\n",
      "  [255 255   0]\n",
      "  [255 255   0]\n",
      "  [255 255   0]\n",
      "  [255 255   0]\n",
      "  [255 255   0]\n",
      "  [255 255   0]\n",
      "  [255 255   0]]]\n"
     ]
    },
    {
     "data": {
      "image/png": "[encoded data removed]",
      "text/plain": [
       "<Figure size 640x480 with 1 Axes>"
      ]
     },
     "metadata": {},
     "output_type": "display_data"
    }
   ],
   "source": [
    "# Creamos matriz principal\n",
    "img = 100 + np.ones((10,10,3), np.uint8)\n",
    "\n",
    "# Extraemos los canales\n",
    "R = img[:,:,0]\n",
    "G = img[:,:,1]\n",
    "B = img[:,:,2]\n",
    "\n",
    "# Modificamos canal VERDE\n",
    "R[:,:] = 0\n",
    "\n",
    "# Modificamos imagen\n",
    "img[:,:,0] = R\n",
    "\n",
    "# Modificamos canal VERDE\n",
    "R[:,:] = 255\n",
    "G[:,:] = 255\n",
    "B[:,:] = 0\n",
    "\n",
    "img[:,:,0] = R\n",
    "img[:,:,1] = G\n",
    "img[:,:,2] = B\n",
    "\n",
    "print(img)\n",
    "\n",
    "# Mostramos\n",
    "plt.imshow(img)\n",
    "plt.show()"
   ]
  }
 ],
 "metadata": {
  "kernelspec": {
   "display_name": "env",
   "language": "python",
   "name": "python3"
  },
  "language_info": {
   "codemirror_mode": {
    "name": "ipython",
    "version": 3
   },
   "file_extension": ".py",
   "mimetype": "text/x-python",
   "name": "python",
   "nbconvert_exporter": "python",
   "pygments_lexer": "ipython3",
   "version": "3.9.13"
  }
 },
 "nbformat": 4,
 "nbformat_minor": 2
}
